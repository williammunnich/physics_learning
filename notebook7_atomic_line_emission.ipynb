{
 "cells": [
  {
   "cell_type": "markdown",
   "metadata": {},
   "source": [
    "# Physics Notebook #7\n",
    "# <ins>ATOMIC LINE EMISSIONS</ins>\n",
    "\n",
    "##### <ins>De Broglie wavelength of a particle:</ins> $ λ = \\frac{h}{p} = \\frac{h}{mv} $\n",
    "##### Wavelength of a particle: λ\n",
    "##### Planck's constant: $ h = 6.626070151 \\times 10^{-34} \\, \\text{J} \\cdot \\text{s} $\n",
    "##### Particle momentum: p\n",
    "##### Paricle mass: m\n",
    "##### Particle speed: s\n",
    "\n",
    "##### "
   ]
  }
 ],
 "metadata": {
  "language_info": {
   "name": "python"
  }
 },
 "nbformat": 4,
 "nbformat_minor": 2
}
